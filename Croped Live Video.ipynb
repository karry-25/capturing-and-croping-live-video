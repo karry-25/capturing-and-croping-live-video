{
 "cells": [
  {
   "cell_type": "raw",
   "id": "e2aad067",
   "metadata": {},
   "source": [
    "# Task 6.3\n",
    "# 👉 Capture a live video.\n",
    "# 👉 Crop the video. \n",
    "# 👉 Display the original video and different cropped parts in different windows.\n",
    "# 📝Create a blog/post/video on this."
   ]
  },
  {
   "cell_type": "code",
   "execution_count": 5,
   "id": "4e4aa6cf",
   "metadata": {},
   "outputs": [],
   "source": [
    "import cv2\n",
    "import numpy as np"
   ]
  },
  {
   "cell_type": "code",
   "execution_count": 6,
   "id": "4948f0de",
   "metadata": {
    "scrolled": true
   },
   "outputs": [],
   "source": [
    "cap = cv2.VideoCapture(0)\n",
    "while True:\n",
    "    ret,  photo = cap.read()    \n",
    "    cv2.imshow('Live Video', photo)\n",
    "    if cv2.waitKey(100)==13:\n",
    "        break\n",
    "cv2.destroyAllWindows()\n",
    "cap.release()"
   ]
  },
  {
   "cell_type": "code",
   "execution_count": 8,
   "id": "52a1c7df",
   "metadata": {},
   "outputs": [],
   "source": [
    "    cap = cv2.VideoCapture(0)    \n",
    "    while True:\n",
    "        ret, photo = cap.read()\n",
    "        Cropped_part1 = photo[0:200, 0:200]\n",
    "        Cropped_part2 = photo[0:200, 200:400]\n",
    "        Cropped_part3 = photo[0:200: , 400: ]\n",
    "        \n",
    "        Cropped_part4 = photo[200:400, 0:200]\n",
    "        Cropped_part5 = photo[200:400, 200:400]\n",
    "        Cropped_part6 = photo[200:400: , 400: ]\n",
    "        \n",
    "        Cropped_part1_resize = cv2.resize(Cropped_part1,(250,200))\n",
    "        Cropped_part2_resize = cv2.resize(Cropped_part2,(250,200))\n",
    "        Cropped_part3_resize = cv2.resize(Cropped_part3,(250,200))\n",
    "        \n",
    "        Cropped_part4_resize = cv2.resize(Cropped_part4,(250,200))\n",
    "        Cropped_part5_resize = cv2.resize(Cropped_part5,(250,200))\n",
    "        Cropped_part6_resize = cv2.resize(Cropped_part6,(250,200)) \n",
    "        \n",
    "        Horizontal_Show1 = np.hstack([Cropped_part1_resize,Cropped_part2_resize,Cropped_part3_resize])\n",
    "        Horizontal_Show2 = np.hstack([Cropped_part4_resize,Cropped_part5_resize,Cropped_part6_resize])\n",
    "\n",
    "        cv2.imshow(\"Horiznontal_Show_1\", Horizontal_Show1)\n",
    "        cv2.imshow(\"Horiznontal_Show_2\", Horizontal_Show2)\n",
    "        cv2.imshow(\"Orignal Video\", photo)\n",
    "        if cv2.waitKey(100)==13:\n",
    "            break\n",
    "    cv2.destroyAllWindows()\n",
    "    cap.release()"
   ]
  },
  {
   "cell_type": "code",
   "execution_count": null,
   "id": "92d15654",
   "metadata": {},
   "outputs": [],
   "source": []
  },
  {
   "cell_type": "code",
   "execution_count": null,
   "id": "8439acad",
   "metadata": {},
   "outputs": [],
   "source": []
  },
  {
   "cell_type": "code",
   "execution_count": 4,
   "id": "61344952",
   "metadata": {},
   "outputs": [],
   "source": [
    "cv2.destroyAllWindows()\n",
    "cap.release()"
   ]
  },
  {
   "cell_type": "code",
   "execution_count": null,
   "id": "dc7f5bde",
   "metadata": {},
   "outputs": [],
   "source": []
  }
 ],
 "metadata": {
  "kernelspec": {
   "display_name": "Python 3",
   "language": "python",
   "name": "python3"
  },
  "language_info": {
   "codemirror_mode": {
    "name": "ipython",
    "version": 3
   },
   "file_extension": ".py",
   "mimetype": "text/x-python",
   "name": "python",
   "nbconvert_exporter": "python",
   "pygments_lexer": "ipython3",
   "version": "3.8.10"
  }
 },
 "nbformat": 4,
 "nbformat_minor": 5
}
